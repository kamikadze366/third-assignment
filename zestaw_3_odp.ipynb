{
 "cells": [
  {
   "cell_type": "code",
   "execution_count": 1,
   "metadata": {},
   "outputs": [],
   "source": [
    "%load_ext pycodestyle_magic\n",
    "%flake8_on --ignore E703"
   ]
  },
  {
   "cell_type": "code",
   "execution_count": 2,
   "metadata": {},
   "outputs": [],
   "source": [
    "import os\n",
    "import pandas as pd\n",
    "import numpy as np\n",
    "\n",
    "from sklearn.linear_model import LogisticRegression\n",
    "from sklearn.metrics import accuracy_score\n",
    "from sklearn.metrics import confusion_matrix\n",
    "\n",
    "import seaborn as sns\n",
    "import matplotlib.pyplot as plt"
   ]
  },
  {
   "cell_type": "markdown",
   "metadata": {},
   "source": [
    "# Task 1"
   ]
  },
  {
   "cell_type": "code",
   "execution_count": 3,
   "metadata": {},
   "outputs": [],
   "source": [
    "data_file = os.path.join('data', 'train.tsv')\n",
    "test_data_file = os.path.join('data', 'test.tsv')\n",
    "results_file = os.path.join('data', 'results.tsv')\n",
    "output_file = os.path.join('data', 'out.tsv')"
   ]
  },
  {
   "cell_type": "code",
   "execution_count": 4,
   "metadata": {},
   "outputs": [],
   "source": [
    "# define columns names\n",
    "df_names = ['Occupancy', 'Date', 'Temperature', 'Humidity',\n",
    "            'Light', 'CO2', 'HumidityRatio']\n",
    "\n",
    "df = pd.read_csv(data_file, sep='\\t', names=df_names)\n",
    "df = df.dropna()"
   ]
  },
  {
   "cell_type": "markdown",
   "metadata": {},
   "source": [
    "### Logistic regression classifier on one independent variable - training data"
   ]
  },
  {
   "cell_type": "code",
   "execution_count": 5,
   "metadata": {},
   "outputs": [
    {
     "name": "stdout",
     "output_type": "stream",
     "text": [
      "Occupancy percentage is: 0.2123\n",
      "Zero rule model accuracy on training set is: 0.7877\n"
     ]
    }
   ],
   "source": [
    "# percentage of occupancy and zero rule model accuracy\n",
    "occupancy_percentage = sum(df[\"Occupancy\"]) / len(df)\n",
    "print(\"Occupancy percentage is: \" + str(round(occupancy_percentage, 4)))\n",
    "print(\"Zero rule model accuracy on training set is: \" + str(round(1 - occupancy_percentage, 4)))"
   ]
  },
  {
   "cell_type": "code",
   "execution_count": 6,
   "metadata": {},
   "outputs": [],
   "source": [
    "# logistic regression classifier on one independent variable\n",
    "clr = LogisticRegression()\n",
    "X_train = df[['Temperature']]\n",
    "y_train = df.Occupancy"
   ]
  },
  {
   "cell_type": "code",
   "execution_count": 7,
   "metadata": {},
   "outputs": [],
   "source": [
    "clr.fit(X_train, y_train)\n",
    "y_train_pred = clr.predict(X_train)"
   ]
  },
  {
   "cell_type": "markdown",
   "metadata": {},
   "source": [
    "#### Accuracy for training set"
   ]
  },
  {
   "cell_type": "code",
   "execution_count": 8,
   "metadata": {},
   "outputs": [
    {
     "name": "stdout",
     "output_type": "stream",
     "text": [
      "Training set accuracy for logisitic regression model on Temperature variable:\n",
      "0.8240206312169962\n"
     ]
    }
   ],
   "source": [
    "clr_accuracy = sum(y_train == y_train_pred) / len(df)\n",
    "print(\"Training set accuracy for logisitic regression model \"\n",
    "      + \"on Temperature variable:\\n\" + str(clr_accuracy))"
   ]
  },
  {
   "cell_type": "markdown",
   "metadata": {},
   "source": [
    "#### Sensitivity\n",
    "= true_positive/(false_negative + true_positive): The proportion of observed positives that were predicted to be positive\n",
    "###### Specificity\n",
    "= true_negative/(true_negative + false_positive): The proportion of observed negatives that were predicted to be negatives."
   ]
  },
  {
   "cell_type": "code",
   "execution_count": 9,
   "metadata": {},
   "outputs": [],
   "source": [
    "# source: https://www.theanalysisfactor.com/sensitivity-and-specificity/\n",
    "conf_matrix = confusion_matrix(y_train, y_train_pred)\n",
    "true_n, false_p, false_n, true_p = conf_matrix.ravel()"
   ]
  },
  {
   "cell_type": "code",
   "execution_count": 10,
   "metadata": {},
   "outputs": [
    {
     "name": "stdout",
     "output_type": "stream",
     "text": [
      "Training set sensitivity for logisitic regression model on Temperature variable:\n",
      "0.4557547715442452\n"
     ]
    }
   ],
   "source": [
    "clr_sensitivity = true_p/(false_n + true_p)\n",
    "print(\"Training set sensitivity for logisitic regression model \"\n",
    "      + \"on Temperature variable:\\n\" + str(clr_sensitivity))"
   ]
  },
  {
   "cell_type": "code",
   "execution_count": 11,
   "metadata": {},
   "outputs": [
    {
     "name": "stdout",
     "output_type": "stream",
     "text": [
      "Training set specificity for logisitic regression model on Temperature variable:\n",
      "0.9232927970065482\n"
     ]
    }
   ],
   "source": [
    "clr_specificity = true_n/(true_n+false_p)\n",
    "print(\"Training set specificity for logisitic regression model \"\n",
    "      + \"on Temperature variable:\\n\" + str(clr_specificity))"
   ]
  },
  {
   "cell_type": "markdown",
   "metadata": {},
   "source": [
    "### Logistic regression classifier on all but 'date' independent variables - training data"
   ]
  },
  {
   "cell_type": "code",
   "execution_count": 12,
   "metadata": {},
   "outputs": [],
   "source": [
    "clr_all = LogisticRegression()\n",
    "X_train_all = df[['Temperature', 'Humidity', 'Light', 'CO2', 'HumidityRatio']]"
   ]
  },
  {
   "cell_type": "code",
   "execution_count": 13,
   "metadata": {},
   "outputs": [],
   "source": [
    "clr_all.fit(X_train_all, y_train);\n",
    "y_train_pred_all = clr_all.predict(X_train_all)"
   ]
  },
  {
   "cell_type": "code",
   "execution_count": 14,
   "metadata": {},
   "outputs": [
    {
     "name": "stdout",
     "output_type": "stream",
     "text": [
      "Training set accuracy for logisitic regression model on all but date variable: 0.9860002456097261\n"
     ]
    }
   ],
   "source": [
    "clr_all_accuracy = accuracy_score(y_train, y_train_pred_all)\n",
    "print(\"Training set accuracy for logisitic regression model \" +\n",
    "      \"on all but date variable: \" + str(clr_all_accuracy))"
   ]
  },
  {
   "cell_type": "code",
   "execution_count": 15,
   "metadata": {},
   "outputs": [],
   "source": [
    "# source: https://www.theanalysisfactor.com/sensitivity-and-specificity/\n",
    "conf_matrix = confusion_matrix(y_train, y_train_pred_all)\n",
    "true_n, false_p, false_n, true_p = conf_matrix.ravel()"
   ]
  },
  {
   "cell_type": "code",
   "execution_count": 16,
   "metadata": {},
   "outputs": [
    {
     "name": "stdout",
     "output_type": "stream",
     "text": [
      "Training set sensitivity for logisitic regression model on Temperature variable:\n",
      "0.9866975130133024\n"
     ]
    }
   ],
   "source": [
    "clr_all_sensitivity = true_p/(false_n + true_p)\n",
    "print(\"Training set sensitivity for logisitic regression model \"\n",
    "      + \"on Temperature variable:\\n\" + str(clr_all_sensitivity))"
   ]
  },
  {
   "cell_type": "code",
   "execution_count": 17,
   "metadata": {},
   "outputs": [
    {
     "name": "stdout",
     "output_type": "stream",
     "text": [
      "Training set specificity for logisitic regression model on Temperature variable:\n",
      "0.9858122856251949\n"
     ]
    }
   ],
   "source": [
    "clr_all_specificity = true_n/(true_n+false_p)\n",
    "print(\"Training set specificity for logisitic regression model \"\n",
    "      + \"on Temperature variable:\\n\" + str(clr_all_specificity))"
   ]
  },
  {
   "cell_type": "markdown",
   "metadata": {},
   "source": [
    "### Logistic regression classifier on all but 'date' independent variables - TEST data"
   ]
  },
  {
   "cell_type": "code",
   "execution_count": 18,
   "metadata": {},
   "outputs": [],
   "source": [
    "# load data into model\n",
    "df_column_names_all = ['Date', 'Temperature', 'Humidity',\n",
    "                       'Light', 'CO2', 'HumidityRatio']\n",
    "X_column_names_all = ['Temperature', 'Humidity', 'Light',\n",
    "                      'CO2', 'HumidityRatio']\n",
    "\n",
    "X_test_all = pd.read_csv(test_data_file,\n",
    "                         sep='\\t', names=df_column_names_all,\n",
    "                         usecols=X_column_names_all)\n",
    "\n",
    "df_results_all = pd.read_csv(results_file,\n",
    "                             sep='\\t', names=['y'])\n",
    "df_results_all['y'] = df_results_all['y'].astype('category')"
   ]
  },
  {
   "cell_type": "code",
   "execution_count": 19,
   "metadata": {},
   "outputs": [],
   "source": [
    "y_true_all = df_results_all['y']"
   ]
  },
  {
   "cell_type": "code",
   "execution_count": 20,
   "metadata": {},
   "outputs": [
    {
     "name": "stdout",
     "output_type": "stream",
     "text": [
      "Accuracy on test dataset (full model): 0.976360225140713\n"
     ]
    }
   ],
   "source": [
    "y_test_pred_all = clr_all.predict(X_test_all)\n",
    "# accuracy calculated using accuracy_score from sklearn.metrics\n",
    "clr_test_accuracy_all = accuracy_score(y_true_all, y_test_pred_all)\n",
    "print('Accuracy on test dataset (full model): ' + str(clr_test_accuracy_all))"
   ]
  },
  {
   "cell_type": "code",
   "execution_count": 21,
   "metadata": {},
   "outputs": [],
   "source": [
    "# source: https://www.theanalysisfactor.com/sensitivity-and-specificity/\n",
    "conf_matrix = confusion_matrix(y_true_all, y_test_pred_all)\n",
    "true_n, false_p, false_n, true_p = conf_matrix.ravel()"
   ]
  },
  {
   "cell_type": "code",
   "execution_count": 22,
   "metadata": {},
   "outputs": [
    {
     "name": "stdout",
     "output_type": "stream",
     "text": [
      "Sensitivity on test dataset (full model):0.9907407407407407\n"
     ]
    }
   ],
   "source": [
    "clr_test_sensitivity_all = true_p/(false_n + true_p)\n",
    "print(\"Sensitivity on test dataset (full model):\" + str(clr_test_sensitivity_all))"
   ]
  },
  {
   "cell_type": "code",
   "execution_count": 23,
   "metadata": {},
   "outputs": [
    {
     "name": "stdout",
     "output_type": "stream",
     "text": [
      "Specificity on test dataset (full model):0.9681039574719433\n"
     ]
    }
   ],
   "source": [
    "clr_test_specificity_all = true_n/(true_n+false_p)\n",
    "print(\"Specificity on test dataset (full model):\" + str(clr_test_specificity_all))"
   ]
  },
  {
   "cell_type": "markdown",
   "metadata": {},
   "source": [
    "### Logistic regression classifier on one independent variable - TEST data"
   ]
  },
  {
   "cell_type": "code",
   "execution_count": 24,
   "metadata": {},
   "outputs": [],
   "source": [
    "# load data into model\n",
    "df_column_names = ['Date', 'Temperature', 'Humidity',\n",
    "                   'Light', 'CO2', 'HumidityRatio']\n",
    "X_column_names = ['Temperature']\n",
    "\n",
    "X_test = pd.read_csv(test_data_file,\n",
    "                     sep='\\t', names=df_column_names, usecols=X_column_names)\n",
    "\n",
    "df_results = pd.read_csv(results_file,\n",
    "                         sep='\\t', names=['y'])\n",
    "df_results['y'] = df_results['y'].astype('category')"
   ]
  },
  {
   "cell_type": "code",
   "execution_count": 25,
   "metadata": {},
   "outputs": [],
   "source": [
    "y_true = df_results['y']"
   ]
  },
  {
   "cell_type": "code",
   "execution_count": 26,
   "metadata": {},
   "outputs": [
    {
     "name": "stdout",
     "output_type": "stream",
     "text": [
      "Accuracy on test dataset (only Temperature): 0.8532833020637899\n"
     ]
    }
   ],
   "source": [
    "y_test_pred = clr.predict(X_test)\n",
    "# accuracy calculated using accuracy_score from sklearn.metrics\n",
    "clr_test_accuracy = accuracy_score(y_true, y_test_pred)\n",
    "print('Accuracy on test dataset (only Temperature): ' + str(clr_test_accuracy))"
   ]
  },
  {
   "cell_type": "code",
   "execution_count": 27,
   "metadata": {},
   "outputs": [],
   "source": [
    "# source: https://www.theanalysisfactor.com/sensitivity-and-specificity/\n",
    "conf_matrix = confusion_matrix(y_true, y_test_pred)\n",
    "true_n, false_p, false_n, true_p = conf_matrix.ravel()"
   ]
  },
  {
   "cell_type": "code",
   "execution_count": 28,
   "metadata": {},
   "outputs": [
    {
     "name": "stdout",
     "output_type": "stream",
     "text": [
      "Sensitivity on test dataset (only Temperature):0.727366255144033\n"
     ]
    }
   ],
   "source": [
    "clr_test_sensitivity = true_p/(false_n + true_p)\n",
    "print(\"Sensitivity on test dataset (only Temperature):\" + str(clr_test_sensitivity))"
   ]
  },
  {
   "cell_type": "code",
   "execution_count": 29,
   "metadata": {},
   "outputs": [
    {
     "name": "stdout",
     "output_type": "stream",
     "text": [
      "Specificity on test dataset (only Temperature):0.9255759007678677\n"
     ]
    }
   ],
   "source": [
    "clr_test_specificity = true_n/(true_n+false_p)\n",
    "print(\"Specificity on test dataset (only Temperature):\" + str(clr_test_specificity))"
   ]
  },
  {
   "cell_type": "code",
   "execution_count": 30,
   "metadata": {},
   "outputs": [],
   "source": [
    "# saving the data\n",
    "df = pd.DataFrame(y_test_pred)\n",
    "df.to_csv(output_file, index=False, header=False)"
   ]
  }
 ],
 "metadata": {
  "kernelspec": {
   "display_name": "Python 3",
   "language": "python",
   "name": "python3"
  },
  "language_info": {
   "codemirror_mode": {
    "name": "ipython",
    "version": 3
   },
   "file_extension": ".py",
   "mimetype": "text/x-python",
   "name": "python",
   "nbconvert_exporter": "python",
   "pygments_lexer": "ipython3",
   "version": "3.7.6"
  }
 },
 "nbformat": 4,
 "nbformat_minor": 4
}
