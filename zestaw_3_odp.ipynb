{
 "cells": [
  {
   "cell_type": "code",
   "execution_count": 1,
   "metadata": {},
   "outputs": [],
   "source": [
    "%load_ext pycodestyle_magic\n",
    "%flake8_on --ignore E703"
   ]
  },
  {
   "cell_type": "code",
   "execution_count": 2,
   "metadata": {},
   "outputs": [],
   "source": [
    "import os\n",
    "import pandas as pd\n",
    "import numpy as np\n",
    "\n",
    "from sklearn.linear_model import LogisticRegression\n",
    "from sklearn.metrics import accuracy_score\n",
    "from sklearn.metrics import confusion_matrix\n",
    "\n",
    "import seaborn as sns\n",
    "import matplotlib.pyplot as plt"
   ]
  },
  {
   "cell_type": "markdown",
   "metadata": {},
   "source": [
    "# Task 1"
   ]
  },
  {
   "cell_type": "code",
   "execution_count": 3,
   "metadata": {},
   "outputs": [],
   "source": [
    "data_file = os.path.join('data', 'train.tsv')\n",
    "test_data_file = os.path.join('data', 'test.tsv')\n",
    "results_file = os.path.join('data', 'results.tsv')\n",
    "output_file = os.path.join('data', 'out.tsv')"
   ]
  },
  {
   "cell_type": "code",
   "execution_count": 4,
   "metadata": {},
   "outputs": [],
   "source": [
    "# define columns names\n",
    "df_names = ['Occupancy', 'Date', 'Temperature', 'Humidity',\n",
    "            'Light', 'CO2', 'HumidityRatio']\n",
    "\n",
    "df = pd.read_csv(data_file, sep='\\t', names=df_names)\n",
    "df = df.dropna()"
   ]
  },
  {
   "cell_type": "markdown",
   "metadata": {},
   "source": [
    "## Logistic regression classifier on one independent variable - training data"
   ]
  },
  {
   "cell_type": "code",
   "execution_count": 5,
   "metadata": {},
   "outputs": [
    {
     "name": "stdout",
     "output_type": "stream",
     "text": [
      "Occupancy percentage is: 0.2123\n",
      "Zero rule model accuracy on training set is: 0.7877\n"
     ]
    }
   ],
   "source": [
    "# percentage of occupancy and zero rule model accuracy\n",
    "occupancy_percentage = sum(df[\"Occupancy\"]) / len(df)\n",
    "print(\"Occupancy percentage is: \" + str(round(occupancy_percentage, 4)))\n",
    "print(\"Zero rule model accuracy on training set is: \" + str(round(1 - occupancy_percentage, 4)))"
   ]
  },
  {
   "cell_type": "code",
   "execution_count": 6,
   "metadata": {},
   "outputs": [],
   "source": [
    "# logistic regression classifier on one independent variable\n",
    "clr = LogisticRegression()\n",
    "X_train = df[['Temperature']]\n",
    "y_train = df.Occupancy"
   ]
  },
  {
   "cell_type": "code",
   "execution_count": 7,
   "metadata": {},
   "outputs": [],
   "source": [
    "clr.fit(X_train, y_train)\n",
    "y_train_pred = clr.predict(X_train)"
   ]
  },
  {
   "cell_type": "markdown",
   "metadata": {},
   "source": [
    "### Accuracy for training set"
   ]
  },
  {
   "cell_type": "code",
   "execution_count": 8,
   "metadata": {},
   "outputs": [
    {
     "name": "stdout",
     "output_type": "stream",
     "text": [
      "Training set accuracy for logisitic regression model on Temperature variable:\n",
      "0.8240206312169962\n"
     ]
    }
   ],
   "source": [
    "clr_accuracy = sum(y_train == y_train_pred) / len(df)\n",
    "print(\"Training set accuracy for logisitic regression model \"\n",
    "      + \"on Temperature variable:\\n\" + str(clr_accuracy))"
   ]
  },
  {
   "cell_type": "markdown",
   "metadata": {},
   "source": [
    "### Sensitivity\n",
    "= true_positive/(false_negative + true_positive): The proportion of observed positives that were predicted to be positive\n",
    "\n",
    "### Specificity\n",
    "= true_negative/(true_negative + false_positive): The proportion of observed negatives that were predicted to be negatives."
   ]
  },
  {
   "cell_type": "code",
   "execution_count": 9,
   "metadata": {},
   "outputs": [],
   "source": [
    "# source: https://www.theanalysisfactor.com/sensitivity-and-specificity/\n",
    "conf_matrix = confusion_matrix(y_train, y_train_pred)\n",
    "true_n, false_p, false_n, true_p = conf_matrix.ravel()"
   ]
  },
  {
   "cell_type": "code",
   "execution_count": 10,
   "metadata": {},
   "outputs": [
    {
     "name": "stdout",
     "output_type": "stream",
     "text": [
      "Training set sensitivity for logisitic regression model on Temperature variable:\n",
      "0.4557547715442452\n"
     ]
    }
   ],
   "source": [
    "clr_sensitivity = true_p/(false_n + true_p)\n",
    "print(\"Training set sensitivity for logisitic regression model \"\n",
    "      + \"on Temperature variable:\\n\" + str(clr_sensitivity))"
   ]
  },
  {
   "cell_type": "code",
   "execution_count": 11,
   "metadata": {},
   "outputs": [
    {
     "name": "stdout",
     "output_type": "stream",
     "text": [
      "Training set specificity for logisitic regression model on Temperature variable:\n",
      "0.9232927970065482\n"
     ]
    }
   ],
   "source": [
    "clr_specificity = true_n/(true_n+false_p)\n",
    "print(\"Training set specificity for logisitic regression model \"\n",
    "      + \"on Temperature variable:\\n\" + str(clr_specificity))"
   ]
  },
  {
   "cell_type": "markdown",
   "metadata": {},
   "source": [
    "## Logistic regression classifier on all but 'date' independent variables - training data"
   ]
  },
  {
   "cell_type": "code",
   "execution_count": 12,
   "metadata": {},
   "outputs": [],
   "source": [
    "clr_all = LogisticRegression()\n",
    "X_train_all = df[['Temperature', 'Humidity', 'Light', 'CO2', 'HumidityRatio']]"
   ]
  },
  {
   "cell_type": "code",
   "execution_count": 13,
   "metadata": {},
   "outputs": [],
   "source": [
    "clr_all.fit(X_train_all, y_train);\n",
    "y_train_pred_all = clr_all.predict(X_train_all)"
   ]
  },
  {
   "cell_type": "code",
   "execution_count": 14,
   "metadata": {},
   "outputs": [
    {
     "name": "stdout",
     "output_type": "stream",
     "text": [
      "Training set accuracy for logisitic regression model on all but date variable: 0.9860002456097261\n"
     ]
    }
   ],
   "source": [
    "clr_all_accuracy = accuracy_score(y_train, y_train_pred_all)\n",
    "print(\"Training set accuracy for logisitic regression model \" +\n",
    "      \"on all but date variable: \" + str(clr_all_accuracy))"
   ]
  },
  {
   "cell_type": "code",
   "execution_count": 15,
   "metadata": {},
   "outputs": [],
   "source": [
    "# source: https://www.theanalysisfactor.com/sensitivity-and-specificity/\n",
    "conf_matrix = confusion_matrix(y_train, y_train_pred_all)\n",
    "true_n, false_p, false_n, true_p = conf_matrix.ravel()"
   ]
  },
  {
   "cell_type": "code",
   "execution_count": 16,
   "metadata": {},
   "outputs": [
    {
     "name": "stdout",
     "output_type": "stream",
     "text": [
      "Training set sensitivity for logisitic regression model on Temperature variable:\n",
      "0.9866975130133024\n"
     ]
    }
   ],
   "source": [
    "clr_all_sensitivity = true_p/(false_n + true_p)\n",
    "print(\"Training set sensitivity for logisitic regression model \"\n",
    "      + \"on Temperature variable:\\n\" + str(clr_all_sensitivity))"
   ]
  },
  {
   "cell_type": "code",
   "execution_count": 17,
   "metadata": {},
   "outputs": [
    {
     "name": "stdout",
     "output_type": "stream",
     "text": [
      "Training set specificity for logisitic regression model on Temperature variable:\n",
      "0.9858122856251949\n"
     ]
    }
   ],
   "source": [
    "clr_all_specificity = true_n/(true_n+false_p)\n",
    "print(\"Training set specificity for logisitic regression model \"\n",
    "      + \"on Temperature variable:\\n\" + str(clr_all_specificity))"
   ]
  },
  {
   "cell_type": "markdown",
   "metadata": {},
   "source": [
    "## Logistic regression classifier on all but 'date' independent variables - TEST data"
   ]
  },
  {
   "cell_type": "code",
   "execution_count": 18,
   "metadata": {},
   "outputs": [],
   "source": [
    "# load data into model\n",
    "df_column_names_all = ['Date', 'Temperature', 'Humidity',\n",
    "                       'Light', 'CO2', 'HumidityRatio']\n",
    "X_column_names_all = ['Temperature', 'Humidity', 'Light',\n",
    "                      'CO2', 'HumidityRatio']\n",
    "\n",
    "X_test_all = pd.read_csv(test_data_file,\n",
    "                         sep='\\t', names=df_column_names_all,\n",
    "                         usecols=X_column_names_all)\n",
    "\n",
    "df_results_all = pd.read_csv(results_file,\n",
    "                             sep='\\t', names=['y'])\n",
    "df_results_all['y'] = df_results_all['y'].astype('category')"
   ]
  },
  {
   "cell_type": "code",
   "execution_count": 19,
   "metadata": {},
   "outputs": [],
   "source": [
    "y_true_all = df_results_all['y']"
   ]
  },
  {
   "cell_type": "code",
   "execution_count": 20,
   "metadata": {},
   "outputs": [
    {
     "name": "stdout",
     "output_type": "stream",
     "text": [
      "Accuracy on test dataset (full model): 0.976360225140713\n"
     ]
    }
   ],
   "source": [
    "y_test_pred_all = clr_all.predict(X_test_all)\n",
    "# accuracy calculated using accuracy_score from sklearn.metrics\n",
    "clr_test_accuracy_all = accuracy_score(y_true_all, y_test_pred_all)\n",
    "print('Accuracy on test dataset (full model): ' + str(clr_test_accuracy_all))"
   ]
  },
  {
   "cell_type": "code",
   "execution_count": 21,
   "metadata": {},
   "outputs": [],
   "source": [
    "# source: https://www.theanalysisfactor.com/sensitivity-and-specificity/\n",
    "conf_matrix = confusion_matrix(y_true_all, y_test_pred_all)\n",
    "true_n, false_p, false_n, true_p = conf_matrix.ravel()"
   ]
  },
  {
   "cell_type": "code",
   "execution_count": 22,
   "metadata": {},
   "outputs": [
    {
     "name": "stdout",
     "output_type": "stream",
     "text": [
      "Sensitivity on test dataset (full model):0.9907407407407407\n"
     ]
    }
   ],
   "source": [
    "clr_test_sensitivity_all = true_p/(false_n + true_p)\n",
    "print(\"Sensitivity on test dataset (full model):\" + str(clr_test_sensitivity_all))"
   ]
  },
  {
   "cell_type": "code",
   "execution_count": 23,
   "metadata": {},
   "outputs": [
    {
     "name": "stdout",
     "output_type": "stream",
     "text": [
      "Specificity on test dataset (full model):0.9681039574719433\n"
     ]
    }
   ],
   "source": [
    "clr_test_specificity_all = true_n/(true_n+false_p)\n",
    "print(\"Specificity on test dataset (full model):\" + str(clr_test_specificity_all))"
   ]
  },
  {
   "cell_type": "markdown",
   "metadata": {},
   "source": [
    "## Logistic regression classifier on one independent variable - TEST data"
   ]
  },
  {
   "cell_type": "code",
   "execution_count": 24,
   "metadata": {},
   "outputs": [],
   "source": [
    "# load data into model\n",
    "df_column_names = ['Date', 'Temperature', 'Humidity',\n",
    "                   'Light', 'CO2', 'HumidityRatio']\n",
    "X_column_names = ['Temperature']\n",
    "\n",
    "X_test = pd.read_csv(test_data_file,\n",
    "                     sep='\\t', names=df_column_names, usecols=X_column_names)\n",
    "\n",
    "df_results = pd.read_csv(results_file,\n",
    "                         sep='\\t', names=['y'])\n",
    "df_results['y'] = df_results['y'].astype('category')"
   ]
  },
  {
   "cell_type": "code",
   "execution_count": 25,
   "metadata": {},
   "outputs": [],
   "source": [
    "y_true = df_results['y']"
   ]
  },
  {
   "cell_type": "code",
   "execution_count": 26,
   "metadata": {},
   "outputs": [
    {
     "name": "stdout",
     "output_type": "stream",
     "text": [
      "Accuracy on test dataset (only Temperature): 0.8532833020637899\n"
     ]
    }
   ],
   "source": [
    "y_test_pred = clr.predict(X_test)\n",
    "# accuracy calculated using accuracy_score from sklearn.metrics\n",
    "clr_test_accuracy = accuracy_score(y_true, y_test_pred)\n",
    "print('Accuracy on test dataset (only Temperature): ' + str(clr_test_accuracy))"
   ]
  },
  {
   "cell_type": "code",
   "execution_count": 27,
   "metadata": {},
   "outputs": [],
   "source": [
    "# source: https://www.theanalysisfactor.com/sensitivity-and-specificity/\n",
    "conf_matrix = confusion_matrix(y_true, y_test_pred)\n",
    "true_n, false_p, false_n, true_p = conf_matrix.ravel()"
   ]
  },
  {
   "cell_type": "code",
   "execution_count": 28,
   "metadata": {},
   "outputs": [
    {
     "name": "stdout",
     "output_type": "stream",
     "text": [
      "Sensitivity on test dataset (only Temperature):0.727366255144033\n"
     ]
    }
   ],
   "source": [
    "clr_test_sensitivity = true_p/(false_n + true_p)\n",
    "print(\"Sensitivity on test dataset (only Temperature):\" + str(clr_test_sensitivity))"
   ]
  },
  {
   "cell_type": "code",
   "execution_count": 29,
   "metadata": {},
   "outputs": [
    {
     "name": "stdout",
     "output_type": "stream",
     "text": [
      "Specificity on test dataset (only Temperature):0.9255759007678677\n"
     ]
    }
   ],
   "source": [
    "clr_test_specificity = true_n/(true_n+false_p)\n",
    "print(\"Specificity on test dataset (only Temperature):\" + str(clr_test_specificity))"
   ]
  },
  {
   "cell_type": "code",
   "execution_count": 30,
   "metadata": {},
   "outputs": [],
   "source": [
    "# saving the data\n",
    "df = pd.DataFrame(y_test_pred)\n",
    "df.to_csv(output_file, index=False, header=False)"
   ]
  },
  {
   "cell_type": "markdown",
   "metadata": {},
   "source": [
    "# Task 2"
   ]
  },
  {
   "cell_type": "code",
   "execution_count": 31,
   "metadata": {},
   "outputs": [
    {
     "name": "stderr",
     "output_type": "stream",
     "text": [
      "1:80: E501 line too long (80 > 79 characters)\n"
     ]
    }
   ],
   "source": [
    "# source: https://machinelearningmastery.com/fbeta-measure-for-machine-learning/\n",
    "from sklearn.metrics import fbeta_score\n",
    "from sklearn.metrics import f1_score\n",
    "from sklearn.metrics import precision_score\n",
    "from sklearn.metrics import recall_score"
   ]
  },
  {
   "cell_type": "code",
   "execution_count": 32,
   "metadata": {},
   "outputs": [],
   "source": [
    "# load data\n",
    "df_train = os.path.join('data', 'train.tsv')\n",
    "df_test = os.path.join('data', 'test.tsv')\n",
    "df_results = os.path.join('data', 'results.tsv')\n",
    "\n",
    "# name of column in train file\n",
    "df_column_names = ['Occupancy', 'Date', 'Temperature', 'Humidity',\n",
    "                   'Light', 'CO2', 'HumidityRatio']\n",
    "df = pd.read_csv(df_train, sep='\\t', names=df_column_names).dropna()"
   ]
  },
  {
   "cell_type": "markdown",
   "metadata": {},
   "source": [
    "## Variable: Temperature"
   ]
  },
  {
   "cell_type": "code",
   "execution_count": 33,
   "metadata": {},
   "outputs": [],
   "source": [
    "clr = LogisticRegression()\n",
    "X_train_temp = df[['Temperature']]\n",
    "y_train_temp = df.Occupancy"
   ]
  },
  {
   "cell_type": "code",
   "execution_count": 34,
   "metadata": {},
   "outputs": [],
   "source": [
    "clr.fit(X_train_temp, y_train_temp)\n",
    "y_train_pred_temp = clr.predict(X_train_temp)\n",
    "\n",
    "conf_matrix_temp = confusion_matrix(y_train_temp, y_train_pred_temp)\n",
    "tn_temp, fp_temp, fn_temp, tp_temp = conf_matrix_temp.ravel()"
   ]
  },
  {
   "cell_type": "markdown",
   "metadata": {},
   "source": [
    "### Presicion \n",
    "is a metric that calculates the percentage of correct predictions for the positive class."
   ]
  },
  {
   "cell_type": "code",
   "execution_count": 35,
   "metadata": {},
   "outputs": [
    {
     "name": "stdout",
     "output_type": "stream",
     "text": [
      "Precision (Temperature): 0.615625\n"
     ]
    }
   ],
   "source": [
    "precision_temp = precision_score(y_train_temp, y_train_pred_temp)\n",
    "print('Precision (Temperature):', precision_temp)"
   ]
  },
  {
   "cell_type": "markdown",
   "metadata": {},
   "source": [
    "### Recall\n",
    "calculates the percentage of correct predictions for the positive class out of all positive predictions that could be made. Maximizing precision will minimize the false-positive errors, whereas maximizing recall will minimize the false-negative errors."
   ]
  },
  {
   "cell_type": "code",
   "execution_count": 36,
   "metadata": {},
   "outputs": [
    {
     "name": "stdout",
     "output_type": "stream",
     "text": [
      "Recall (Temperature):\t0.4557547715442452\n"
     ]
    }
   ],
   "source": [
    "recall_temp = recall_score(y_train_temp, y_train_pred_temp)\n",
    "print('Recall (Temperature):', recall_temp, sep='\\t')"
   ]
  },
  {
   "cell_type": "markdown",
   "metadata": {},
   "source": [
    "### F-measure \n",
    "is calculated as the harmonic mean of precision and recall, giving each the same weighting. It allows a model to be evaluated taking both the precision and recall into account using a single score, which is helpful when describing the performance of the model and in comparing models."
   ]
  },
  {
   "cell_type": "code",
   "execution_count": 37,
   "metadata": {},
   "outputs": [
    {
     "name": "stdout",
     "output_type": "stream",
     "text": [
      "F1 (Temperature):\t0.523762047191758\n"
     ]
    }
   ],
   "source": [
    "f1_temp = f1_score(y_train_temp, y_train_pred_temp)\n",
    "print('F1 (Temperature):', f1_temp, sep='\\t')"
   ]
  },
  {
   "cell_type": "markdown",
   "metadata": {},
   "source": [
    "### Fbeta-measure \n",
    "is a generalization of the F-measure that adds a configuration parameter called beta. A default beta value is 1.0, which is the same as the F-measure. A smaller beta value, such as 0.5, gives more weight to precision and less to recall, whereas a larger beta value, such as 2.0, gives less weight to precision and more weight to recall in the calculation of the score."
   ]
  },
  {
   "cell_type": "code",
   "execution_count": 38,
   "metadata": {
    "scrolled": true
   },
   "outputs": [
    {
     "name": "stdout",
     "output_type": "stream",
     "text": [
      "F beta (Temperature):\t0.4807223035627135\n"
     ]
    },
    {
     "name": "stderr",
     "output_type": "stream",
     "text": [
      "1:16: E261 at least two spaces before inline comment\n"
     ]
    }
   ],
   "source": [
    "beta_temp = 2.0 # recall is more important than precision in this case\n",
    "\n",
    "f_beta_temp = fbeta_score(y_train_temp, y_train_pred_temp, beta=beta_temp)\n",
    "print('F beta (Temperature):', f_beta_temp, sep='\\t')"
   ]
  },
  {
   "cell_type": "markdown",
   "metadata": {},
   "source": [
    "## Variable: CO2"
   ]
  },
  {
   "cell_type": "code",
   "execution_count": 39,
   "metadata": {},
   "outputs": [],
   "source": [
    "clr = LogisticRegression()\n",
    "X_train_CO2 = df[['CO2']]\n",
    "y_train_CO2 = df.Occupancy"
   ]
  },
  {
   "cell_type": "code",
   "execution_count": 40,
   "metadata": {},
   "outputs": [],
   "source": [
    "clr.fit(X_train_CO2, y_train_CO2)\n",
    "y_train_pred_CO2 = clr.predict(X_train_CO2)\n",
    "\n",
    "conf_matrix_CO2 = confusion_matrix(y_train_CO2, y_train_pred_CO2)\n",
    "tn_CO2, fp_CO2, fn_CO2, tp_CO2 = conf_matrix_CO2.ravel()"
   ]
  },
  {
   "cell_type": "code",
   "execution_count": 41,
   "metadata": {},
   "outputs": [
    {
     "name": "stdout",
     "output_type": "stream",
     "text": [
      "Precision (CO2): 0.8224687933425797\n"
     ]
    }
   ],
   "source": [
    "precision_CO2 = precision_score(y_train_CO2, y_train_pred_CO2)\n",
    "print('Precision (CO2):', precision_CO2)"
   ]
  },
  {
   "cell_type": "code",
   "execution_count": 42,
   "metadata": {},
   "outputs": [
    {
     "name": "stdout",
     "output_type": "stream",
     "text": [
      "Recall (CO2):\t0.6859456333140543\n"
     ]
    }
   ],
   "source": [
    "recall_CO2 = recall_score(y_train_CO2, y_train_pred_CO2)\n",
    "print('Recall (CO2):', recall_CO2, sep='\\t')"
   ]
  },
  {
   "cell_type": "code",
   "execution_count": 43,
   "metadata": {},
   "outputs": [
    {
     "name": "stdout",
     "output_type": "stream",
     "text": [
      "F1 (CO2):\t0.748029012929675\n"
     ]
    }
   ],
   "source": [
    "f1_CO2 = f1_score(y_train_CO2, y_train_pred_CO2)\n",
    "print('F1 (CO2):', f1_CO2, sep='\\t')"
   ]
  },
  {
   "cell_type": "code",
   "execution_count": 44,
   "metadata": {},
   "outputs": [
    {
     "name": "stdout",
     "output_type": "stream",
     "text": [
      "F beta (CO2):\t0.7909830598906229\n"
     ]
    },
    {
     "name": "stderr",
     "output_type": "stream",
     "text": [
      "1:15: E261 at least two spaces before inline comment\n"
     ]
    }
   ],
   "source": [
    "beta_CO2 = 0.5 # precision is more important than recall in this case\n",
    "\n",
    "f_beta_CO2 = fbeta_score(y_train_CO2, y_train_pred_CO2, beta=beta_CO2)\n",
    "print('F beta (CO2):', f_beta_CO2, sep='\\t')"
   ]
  },
  {
   "cell_type": "markdown",
   "metadata": {},
   "source": [
    "## Variable: all independent but no 'date'"
   ]
  },
  {
   "cell_type": "code",
   "execution_count": 45,
   "metadata": {},
   "outputs": [],
   "source": [
    "clr = LogisticRegression()\n",
    "X_train_all = df[['Temperature', 'Humidity', 'Light', 'CO2', 'HumidityRatio']]\n",
    "y_train_all = df.Occupancy"
   ]
  },
  {
   "cell_type": "code",
   "execution_count": 46,
   "metadata": {},
   "outputs": [],
   "source": [
    "clr.fit(X_train_all, y_train)\n",
    "y_train_pred_all = clr.predict(X_train_all)\n",
    "\n",
    "conf_matrix_all = confusion_matrix(y_train, y_train_pred_all)\n",
    "tn_all, fp_all, fn_all, tp_all = conf_matrix_all.ravel()"
   ]
  },
  {
   "cell_type": "code",
   "execution_count": 47,
   "metadata": {},
   "outputs": [
    {
     "name": "stdout",
     "output_type": "stream",
     "text": [
      "Precision (All but date): 0.9493600445186422\n"
     ]
    }
   ],
   "source": [
    "precision_all = precision_score(y_train_all, y_train_pred_all)\n",
    "print('Precision (All but date):', precision_all)"
   ]
  },
  {
   "cell_type": "code",
   "execution_count": 48,
   "metadata": {},
   "outputs": [
    {
     "name": "stdout",
     "output_type": "stream",
     "text": [
      "Recall (All but date):\t0.9866975130133024\n"
     ]
    }
   ],
   "source": [
    "recall_all = recall_score(y_train_all, y_train_pred_all)\n",
    "print('Recall (All but date):', recall_all, sep='\\t')"
   ]
  },
  {
   "cell_type": "code",
   "execution_count": 49,
   "metadata": {},
   "outputs": [
    {
     "name": "stdout",
     "output_type": "stream",
     "text": [
      "F1 (All but date):\t0.9676687464549064\n"
     ]
    }
   ],
   "source": [
    "f1_all = f1_score(y_train_all, y_train_pred_all)\n",
    "print('F1 (All but date):', f1_all, sep='\\t')"
   ]
  },
  {
   "cell_type": "code",
   "execution_count": 50,
   "metadata": {},
   "outputs": [
    {
     "name": "stdout",
     "output_type": "stream",
     "text": [
      "F beta (All but date):\t0.9789969011821417\n"
     ]
    },
    {
     "name": "stderr",
     "output_type": "stream",
     "text": [
      "1:15: E261 at least two spaces before inline comment\n"
     ]
    }
   ],
   "source": [
    "beta_all = 2.0 # recall is more important than precision in this case\n",
    "\n",
    "f_beta_all = fbeta_score(y_train_all, y_train_pred_all, beta=beta_all)\n",
    "print('F beta (All but date):', f_beta_all, sep='\\t')"
   ]
  },
  {
   "cell_type": "markdown",
   "metadata": {},
   "source": [
    "## Summary"
   ]
  },
  {
   "cell_type": "code",
   "execution_count": 51,
   "metadata": {},
   "outputs": [],
   "source": [
    "result_temp = {'Precision': precision_temp, 'Recall': recall_temp,\n",
    "               'F': f1_temp, 'Fbeta': f_beta_temp}\n",
    "result_CO2 = {'Precision': precision_CO2, 'Recall': recall_CO2,\n",
    "              'F': f1_CO2, 'Fbeta': f_beta_CO2}\n",
    "result_all = {'Precision': precision_all, 'Recall': recall_all,\n",
    "              'F': f1_all, 'Fbeta': f_beta_all}"
   ]
  },
  {
   "cell_type": "code",
   "execution_count": 52,
   "metadata": {},
   "outputs": [
    {
     "data": {
      "text/html": [
       "<div>\n",
       "<style scoped>\n",
       "    .dataframe tbody tr th:only-of-type {\n",
       "        vertical-align: middle;\n",
       "    }\n",
       "\n",
       "    .dataframe tbody tr th {\n",
       "        vertical-align: top;\n",
       "    }\n",
       "\n",
       "    .dataframe thead th {\n",
       "        text-align: right;\n",
       "    }\n",
       "</style>\n",
       "<table border=\"1\" class=\"dataframe\">\n",
       "  <thead>\n",
       "    <tr style=\"text-align: right;\">\n",
       "      <th></th>\n",
       "      <th>Precision</th>\n",
       "      <th>Recall</th>\n",
       "      <th>F</th>\n",
       "      <th>Fbeta</th>\n",
       "    </tr>\n",
       "  </thead>\n",
       "  <tbody>\n",
       "    <tr>\n",
       "      <th>Temperature</th>\n",
       "      <td>0.6156</td>\n",
       "      <td>0.4558</td>\n",
       "      <td>0.5238</td>\n",
       "      <td>0.4807</td>\n",
       "    </tr>\n",
       "    <tr>\n",
       "      <th>CO2</th>\n",
       "      <td>0.8225</td>\n",
       "      <td>0.6859</td>\n",
       "      <td>0.7480</td>\n",
       "      <td>0.7910</td>\n",
       "    </tr>\n",
       "    <tr>\n",
       "      <th>All</th>\n",
       "      <td>0.9494</td>\n",
       "      <td>0.9867</td>\n",
       "      <td>0.9677</td>\n",
       "      <td>0.9790</td>\n",
       "    </tr>\n",
       "  </tbody>\n",
       "</table>\n",
       "</div>"
      ],
      "text/plain": [
       "             Precision  Recall       F   Fbeta\n",
       "Temperature     0.6156  0.4558  0.5238  0.4807\n",
       "CO2             0.8225  0.6859  0.7480  0.7910\n",
       "All             0.9494  0.9867  0.9677  0.9790"
      ]
     },
     "execution_count": 52,
     "metadata": {},
     "output_type": "execute_result"
    }
   ],
   "source": [
    "df_summary = pd.DataFrame(data=[result_temp, result_CO2, result_all],\n",
    "                          columns=['Precision', 'Recall', 'F', 'Fbeta'],\n",
    "                          index=['Temperature', 'CO2', 'All']).round(4)\n",
    "df_summary"
   ]
  },
  {
   "cell_type": "code",
   "execution_count": null,
   "metadata": {},
   "outputs": [],
   "source": []
  }
 ],
 "metadata": {
  "kernelspec": {
   "display_name": "Python 3",
   "language": "python",
   "name": "python3"
  },
  "language_info": {
   "codemirror_mode": {
    "name": "ipython",
    "version": 3
   },
   "file_extension": ".py",
   "mimetype": "text/x-python",
   "name": "python",
   "nbconvert_exporter": "python",
   "pygments_lexer": "ipython3",
   "version": "3.7.6"
  }
 },
 "nbformat": 4,
 "nbformat_minor": 4
}
